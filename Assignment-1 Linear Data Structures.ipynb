{
 "cells": [
  {
   "cell_type": "markdown",
   "id": "3b846271",
   "metadata": {},
   "source": [
    "# Write a program to find all pairs of an integer array whose sum is equal to a given number?"
   ]
  },
  {
   "cell_type": "code",
   "execution_count": 13,
   "id": "0ec2d889",
   "metadata": {},
   "outputs": [
    {
     "name": "stdout",
     "output_type": "stream",
     "text": [
      "1 + 9 = 10\n",
      "2 + 8 = 10\n",
      "3 + 7 = 10\n",
      "4 + 6 = 10\n"
     ]
    }
   ],
   "source": [
    "a=[1,2,3,4,5,6,7,8,9,10,11,12,13,14,15]\n",
    "n=len(a)\n",
    "number=10\n",
    "for i in range(0,n):\n",
    "    for j in range(i+1,n):\n",
    "         if((a[i]+a[j])==number):\n",
    "                print(a[i],'+',a[j],\"=\",number)"
   ]
  },
  {
   "cell_type": "markdown",
   "id": "7953f362",
   "metadata": {},
   "source": [
    "# Write a program to reverse an array in place? In place means you cannot create a new array. You have to update the original array."
   ]
  },
  {
   "cell_type": "code",
   "execution_count": 17,
   "id": "8065e738",
   "metadata": {},
   "outputs": [
    {
     "name": "stdout",
     "output_type": "stream",
     "text": [
      "[1, 2, 3, 4, 5, 6]\n",
      "Reversed list is\n",
      "[6, 5, 4, 3, 2, 1]\n"
     ]
    }
   ],
   "source": [
    "def reverseList(A):\n",
    "    print( A[::-1])\n",
    "     \n",
    "\n",
    "A = [1, 2, 3, 4, 5, 6]\n",
    "print(A)\n",
    "print(\"Reversed list is\")\n",
    "reverseList(A) "
   ]
  },
  {
   "cell_type": "markdown",
   "id": "2ed6653e",
   "metadata": {},
   "source": [
    "# Write a program to check if two strings are a rotation of each other?"
   ]
  },
  {
   "cell_type": "code",
   "execution_count": 20,
   "id": "ee7483fe",
   "metadata": {},
   "outputs": [
    {
     "name": "stdout",
     "output_type": "stream",
     "text": [
      "str1 and str2 are notin rotation\n"
     ]
    }
   ],
   "source": [
    "def rotation(str1,str2):\n",
    "    size1=len(str1)\n",
    "    size2=len(str2)\n",
    "    str3=''\n",
    "    \n",
    "    if str1!=str2:\n",
    "        return 0\n",
    "    str3=str1 + str2\n",
    "    if (str3.count(str2)>0):\n",
    "        return 1\n",
    "    else:\n",
    "        return 0\n",
    "str1=\"mounika\"\n",
    "str2=\"mounika\"\n",
    "if rotation(str1,str2):\n",
    "        print(\"str1 and str2 are in rotation\")\n",
    "else:\n",
    "    print(\"str1 and str2 are notin rotation\")"
   ]
  },
  {
   "cell_type": "markdown",
   "id": "a3490e81",
   "metadata": {},
   "source": [
    "# Write a program to print the first non-repeated character from a string"
   ]
  },
  {
   "cell_type": "code",
   "execution_count": 17,
   "id": "82027416",
   "metadata": {},
   "outputs": [
    {
     "name": "stdout",
     "output_type": "stream",
     "text": [
      "u\n",
      "v\n",
      "None\n"
     ]
    }
   ],
   "source": [
    "def first_non_repeated_character(str1):\n",
    "    char_order=[]\n",
    "    str2={}\n",
    "    for i in str1:\n",
    "        if i in str2:\n",
    "            str2[i]+=1\n",
    "        else:\n",
    "            str2[i]=1\n",
    "            char_order.append(i)\n",
    "    for i in char_order:\n",
    "        if str2[i] == 1:\n",
    "            return i\n",
    "    return None\n",
    "print(first_non_repeated_character('mmoounika'))\n",
    "print(first_non_repeated_character(\"vihaas\"))\n",
    "print(first_non_repeated_character('aabbcc'))\n",
    "            \n",
    "    "
   ]
  },
  {
   "cell_type": "markdown",
   "id": "6e978d1a",
   "metadata": {},
   "source": [
    "# Read about the Tower of Hanoi algorithm. Write a program to implement it."
   ]
  },
  {
   "cell_type": "code",
   "execution_count": 9,
   "id": "735a7390",
   "metadata": {},
   "outputs": [
    {
     "name": "stdout",
     "output_type": "stream",
     "text": [
      "Move disk 1 from rod A to rod B\n",
      "Move disk 2 from rod A to rod C\n",
      "Move disk 1 from rod B to rod C\n"
     ]
    }
   ],
   "source": [
    "def Hanoialgorithm(n , from_rod, to_rod, aux_rod):\n",
    "    if n == 1:\n",
    "        print(\"Move disk 1 from rod\",from_rod,\"to rod\",to_rod)\n",
    "        return\n",
    "    Hanoialgorithm(n-1, from_rod, aux_rod, to_rod)\n",
    "    print(\"Move disk\",n,\"from rod\",from_rod,\"to rod\",to_rod)\n",
    "    Hanoialgorithm(n-1, aux_rod, to_rod, from_rod)\n",
    "         \n",
    "\n",
    "n = 2\n",
    "Hanoialgorithm(n, 'A', 'C', 'B')\n"
   ]
  },
  {
   "cell_type": "markdown",
   "id": "4f9b725d",
   "metadata": {},
   "source": [
    "# Write a program to convert prefix expression to infix expression."
   ]
  },
  {
   "cell_type": "code",
   "execution_count": 3,
   "id": "aee93952",
   "metadata": {},
   "outputs": [
    {
     "name": "stdout",
     "output_type": "stream",
     "text": [
      "((A-(B/C))*((A/K)-L))\n"
     ]
    }
   ],
   "source": [
    "def prefix2Infix(prefix):\n",
    "    stack = []\n",
    "     \n",
    "   \n",
    "    i = len(prefix) - 1\n",
    "    while i >= 0:\n",
    "        if not isOperator(prefix[i]):\n",
    "            stack.append(prefix[i])\n",
    "            i -= 1\n",
    "        else:\n",
    "            str = \"(\" + stack.pop() + prefix[i] + stack.pop() + \")\"\n",
    "            stack.append(str)\n",
    "            i -= 1\n",
    "     \n",
    "    return stack.pop()\n",
    " \n",
    "def isOperator(c):\n",
    "    if c == \"*\" or c == \"+\" or c == \"-\" or c == \"/\" or c == \"^\" or c == \"(\" or c == \")\":\n",
    "        return True\n",
    "    else:\n",
    "        return False\n",
    " \n",
    "\n",
    "if __name__==\"__main__\":\n",
    "    str = \"*-A/BC-/AKL\"\n",
    "    print(prefix2Infix(str))"
   ]
  },
  {
   "cell_type": "markdown",
   "id": "9b3c5900",
   "metadata": {},
   "source": [
    "# Write a program to check if all the brackets are closed in a given code snippet."
   ]
  },
  {
   "cell_type": "code",
   "execution_count": 6,
   "id": "de64f442",
   "metadata": {},
   "outputs": [],
   "source": [
    "def is_matched(expression):\n",
    "    \n",
    "    opening = tuple('({[')\n",
    "    closing = tuple(')}]')\n",
    "    mapping = dict(zip(opening, closing))\n",
    "    queue = []\n",
    "\n",
    "    for letter in expression:\n",
    "        if letter in opening:\n",
    "            queue.append(mapping[letter])\n",
    "        elif letter in closing:\n",
    "            if not queue or letter != queue.pop():\n",
    "                return False\n",
    "    return not queue\n",
    "\n",
    "if __name__ == '__main__':\n",
    "    import doctest\n",
    "    doctest.testmod()"
   ]
  },
  {
   "cell_type": "markdown",
   "id": "12a5ca14",
   "metadata": {},
   "source": [
    "# Write a program to reverse a stack."
   ]
  },
  {
   "cell_type": "code",
   "execution_count": 7,
   "id": "3c48a65a",
   "metadata": {},
   "outputs": [
    {
     "name": "stdout",
     "output_type": "stream",
     "text": [
      "Original Stack\n",
      "5\n",
      "4\n",
      "3\n",
      "2\n",
      "1\n",
      "\n",
      "Stack after Reversing\n",
      "1\n",
      "2\n",
      "3\n",
      "4\n",
      "5\n"
     ]
    }
   ],
   "source": [
    "class Stack:\n",
    "    def __init__(self):\n",
    "        self.Elements = []\n",
    "         \n",
    "    \n",
    "    def push(self, value):\n",
    "        self.Elements.append(value)\n",
    "       \n",
    "   \n",
    "    def pop(self):\n",
    "        return self.Elements.pop()\n",
    "     \n",
    "    \n",
    "    def empty(self):\n",
    "        return self.Elements == []\n",
    "     \n",
    "    \n",
    "    def show(self):\n",
    "        for value in reversed(self.Elements):\n",
    "            print(value)\n",
    " \n",
    "\n",
    "def BottomInsert(s, value):\n",
    "   \n",
    "   \n",
    "    if s.empty():\n",
    "         \n",
    "        s.push(value)\n",
    "         \n",
    "    \n",
    "    else:\n",
    "        popped = s.pop()\n",
    "        BottomInsert(s, value)\n",
    "        s.push(popped)\n",
    " \n",
    "\n",
    "def Reverse(s):\n",
    "    if s.empty():\n",
    "        pass\n",
    "    else:\n",
    "        popped = s.pop()\n",
    "        Reverse(s)\n",
    "        BottomInsert(s, popped)\n",
    " \n",
    " \n",
    "\n",
    "stk = Stack()\n",
    " \n",
    "stk.push(1)\n",
    "stk.push(2)\n",
    "stk.push(3)\n",
    "stk.push(4)\n",
    "stk.push(5)\n",
    " \n",
    "print(\"Original Stack\")\n",
    "stk.show()\n",
    " \n",
    "print(\"\\nStack after Reversing\")\n",
    "Reverse(stk)\n",
    "stk.show()"
   ]
  },
  {
   "cell_type": "markdown",
   "id": "b92f28cd",
   "metadata": {},
   "source": [
    "# Write a program to find the smallest number using a stack."
   ]
  },
  {
   "cell_type": "code",
   "execution_count": 14,
   "id": "354ea116",
   "metadata": {},
   "outputs": [
    {
     "name": "stdout",
     "output_type": "stream",
     "text": [
      "Enter number of elements in list: 2\n",
      "Enter elements: 2\n",
      "Enter elements: 5\n",
      "Smallest element is: 2\n"
     ]
    }
   ],
   "source": [
    "list1 = []\n",
    "num = int(input(\"Enter number of elements in list: \"))\n",
    "for i in range(1, num + 1):\n",
    "    ele= int(input(\"Enter elements: \"))\n",
    "    list1.append(ele)\n",
    "print(\"Smallest element is:\", min(list1))"
   ]
  }
 ],
 "metadata": {
  "kernelspec": {
   "display_name": "Python 3",
   "language": "python",
   "name": "python3"
  },
  "language_info": {
   "codemirror_mode": {
    "name": "ipython",
    "version": 3
   },
   "file_extension": ".py",
   "mimetype": "text/x-python",
   "name": "python",
   "nbconvert_exporter": "python",
   "pygments_lexer": "ipython3",
   "version": "3.8.8"
  }
 },
 "nbformat": 4,
 "nbformat_minor": 5
}
